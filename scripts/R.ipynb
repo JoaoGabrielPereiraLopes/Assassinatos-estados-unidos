{
 "cells": [
  {
   "cell_type": "code",
   "execution_count": 21,
   "metadata": {
    "vscode": {
     "languageId": "r"
    }
   },
   "outputs": [
    {
     "name": "stdout",
     "output_type": "stream",
     "text": [
      "[1] 494125\n",
      "[1] 143345\n"
     ]
    }
   ],
   "source": [
    "dados <- read.csv(\"../database/database.csv\")\n",
    "mulheres<-nrow(dados[dados$VictimSex == 'Female', ])\n",
    "homens<-nrow(dados[dados$VictimSex == 'Male', ])\n",
    "print(homens)\n",
    "print(mulheres)"
   ]
  },
  {
   "cell_type": "code",
   "execution_count": 22,
   "metadata": {
    "vscode": {
     "languageId": "r"
    }
   },
   "outputs": [],
   "source": [
    "png('../resultados/assassinatos_genero.png', width = 800, height = 600)\n",
    "par(bg = \"white\")\n",
    "pie(\n",
    "  c(mulheres,homens),\n",
    "  labels = c('mulheres','homens'),\n",
    "  main = 'porcentagem de assassinatos por gênero',\n",
    "  col = rainbow(2)\n",
    ")"
   ]
  }
 ],
 "metadata": {
  "kernelspec": {
   "display_name": "R",
   "language": "R",
   "name": "ir"
  },
  "language_info": {
   "codemirror_mode": "r",
   "file_extension": ".r",
   "mimetype": "text/x-r-source",
   "name": "R",
   "pygments_lexer": "r",
   "version": "4.1.2"
  }
 },
 "nbformat": 4,
 "nbformat_minor": 2
}
